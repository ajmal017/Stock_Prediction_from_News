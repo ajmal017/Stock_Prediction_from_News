{
 "cells": [
  {
   "cell_type": "code",
   "execution_count": null,
   "metadata": {},
   "outputs": [],
   "source": [
    "from pyspark.sql import SparkSession\n",
    "from datetime import date, timedelta, datetime\n",
    "\n",
    "bucket_name = \"team166project\"\n",
    "spark = SparkSession\\\n",
    "    .builder\\\n",
    "    .appName(\"processing\")\\\n",
    "    .getOrCreate()\n",
    "\n",
    "today = date.today().isoformat()\n",
    "\n",
    "prices_path = \"s3://\"+ bucket_name + \"/price-data-\" + today + \".csv\"\n",
    "tweets_path = \"s3://\" + bucket_name + \"/twitter-data-\" + today + \".json\" \n",
    "balance_path = \"s3://\" + bucket_name + \"/balance_sheets.csv\"\n",
    "cash_path = \"s3://\" + bucket_name + \"/cash_flow.csv\"\n",
    "income_path = \"s3://\" + bucket_name + \"/income_statements.csv\"\n",
    "ratios_path = \"s3://\" + bucket_name + \"/ratios.csv\"\n",
    "\n",
    "\n",
    "symbols = sc.textFile(\"s3://\" + bucket_name + \"/symbols.txt\").collect()\n",
    "prices_df = spark.read.csv(prices_path, inferSchema=True, header=True)\n",
    "tweets_df = spark.read.json(tweets_path)"
   ]
  },
  {
   "cell_type": "code",
   "execution_count": null,
   "metadata": {
    "scrolled": false
   },
   "outputs": [],
   "source": [
    "spark.read.csv(cash_path, inferSchema=True, header=True)\n",
    "spark.read.csv(income_path, inferSchema=True, header=True)\n",
    "spark.read.csv(ratios_path, inferSchema=True, header=True)\n",
    "spark.read.csv(balance_path, inferSchema=True, header=True)"
   ]
  },
  {
   "cell_type": "code",
   "execution_count": null,
   "metadata": {},
   "outputs": [],
   "source": []
  }
 ],
 "metadata": {
  "kernelspec": {
   "display_name": "PySpark",
   "language": "",
   "name": "pysparkkernel"
  },
  "language_info": {
   "codemirror_mode": {
    "name": "python",
    "version": 2
   },
   "mimetype": "text/x-python",
   "name": "pyspark",
   "pygments_lexer": "python2"
  }
 },
 "nbformat": 4,
 "nbformat_minor": 4
}
