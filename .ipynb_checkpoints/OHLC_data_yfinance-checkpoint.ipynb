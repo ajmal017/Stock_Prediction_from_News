{
 "cells": [
  {
   "cell_type": "markdown",
   "metadata": {},
   "source": [
    "# Get open, high, low and close data from Yahoo Finance using Yahoo Query API\n",
    "## We will be getting atleast 5 years historical prices for S&P 500 stocks"
   ]
  },
  {
   "cell_type": "markdown",
   "metadata": {},
   "source": [
    "### Step 1: Import the required libraries\n",
    "We will be using Yahoo Query API to pull data from Yahoo Finance. To install this library use pip install yahooquery"
   ]
  },
  {
   "cell_type": "code",
   "execution_count": 6,
   "metadata": {},
   "outputs": [],
   "source": [
    "import yfinance as yf\n",
    "import pandas as pd\n",
    "import csv\n",
    "import logging #library to create log files\n",
    "import datetime as dt\n",
    "from datetime import datetime # To get the current date and time\n",
    "from datetime import date, timedelta\n",
    "from pytz import timezone # Get timezone\n",
    "import csv\n",
    "import time\n",
    "import os # To check if the file exists"
   ]
  },
  {
   "cell_type": "markdown",
   "metadata": {},
   "source": [
    "### Step 2: Load tickers for S&P 500 stocks from csv file \n",
    "Note: We have created seperate python script (S&P500Tickers.ipynb) to get S&P 500 stocks and store that in file name is 'S&P500Tickers.csv'"
   ]
  },
  {
   "cell_type": "code",
   "execution_count": 7,
   "metadata": {},
   "outputs": [],
   "source": [
    "ticker_data = pd.read_csv(\"S&P500Tickers.csv\") # Open csv file and read data in pandas dataframe\n",
    "tickers_list = ticker_data['Symbol'].tolist() #Get all the tickers in a list"
   ]
  },
  {
   "cell_type": "markdown",
   "metadata": {},
   "source": [
    "### Step 3: Create a function that pull data for yfinance api for each ticker\n",
    "OHLC - Open high low and close of a stock on a given date\n",
    "Script needs start and end date to pull data between the range else data for max period will be pulled\n",
    "Start date and end date has to be in format YYYY-MM-DD\n",
    "Add daily percent return [(close - Open) / Open]"
   ]
  },
  {
   "cell_type": "code",
   "execution_count": 8,
   "metadata": {},
   "outputs": [],
   "source": [
    "def get_OHLC_data(tickers, start_date = None, end_date = None):\n",
    "    '''\n",
    "    This function gets daily OHLC data from Yahoo Finance API for the provided number of days. \n",
    "    Daily returns are caluclated and stored in Returns column\n",
    "    In case days is not provided then data sis pulled for maximum number of days\n",
    "    \n",
    "    Input Parameters: \n",
    "    tickers: List of tickers for which data needs to be extracted\n",
    "    days: Number of days for which data needs to be pulled\n",
    "    \n",
    "    Returns: Dataframe of the extracted data\n",
    "    '''\n",
    "    logging.info(\"Getting OHLC data for days provided\")\n",
    "    final_OHLC_df = pd.DataFrame()\n",
    "    OHLC_data = pd.DataFrame()\n",
    "    for ticker in tickers:\n",
    "        # Initiate object to get the data from API\n",
    "        #print(f'working on the ticker {ticker}')\n",
    "        yf_ticker_obj = yf.Ticker(ticker) # Setting the asynchronous flag as we are pulling data for multiple tickers\n",
    "        if(start_date != None and end_date != None):\n",
    "            #print(f'start date {start_date} and end_date {end_date}')\n",
    "            OHLC_data = yf_ticker_obj.history(start = start_date, end = end_date, interval = \"1d\", auto_adjust = True)\n",
    "        else:\n",
    "            #print(f'No start and end date. Getting for maximum days')\n",
    "            OHLC_data = yf_ticker_obj.history(period=\"max\", interval = \"1d\", auto_adjust = True)\n",
    "        \n",
    "        OHLC_data.insert(0, 'Symbol', ticker)\n",
    "\n",
    "        # Delete split and dividend columns\n",
    "        #print(f'Deleting Split and divident column')\n",
    "        OHLC_data = OHLC_data.drop(['Dividends','Stock Splits'], axis=1, errors='ignore')\n",
    "        #display(OHLC_data.head())\n",
    "        #print(f'Appending to existing dataframe')\n",
    "        final_OHLC_df = final_OHLC_df.append(OHLC_data)\n",
    "        #display(final_OHLC_df.head())\n",
    "        time.sleep(.5)\n",
    "    \n",
    "    final_OHLC_df.reset_index(inplace=True)\n",
    "    #display(final_OHLC_df.head())\n",
    "    # Set index to symbol and date\n",
    "    final_OHLC_df.set_index([\"Date\", \"Symbol\"], inplace=True)\n",
    "    #display(final_OHLC_df.head())\n",
    "\n",
    "    return final_OHLC_df\n",
    "    # Add daily percent change on the price whic is [(close price - open price)/open price]\n",
    "    # OHLC_data['return'] = ((OHLC_data['close'] - OHLC_data['open'])/OHLC_data['open'])*100 \n",
    "    "
   ]
  },
  {
   "cell_type": "markdown",
   "metadata": {},
   "source": [
    "### Step 4: Get the last date and dataframe from the existing OHLC csv file\n",
    "This function will open existing csv file and put the data in existing dataframe and will also return last date"
   ]
  },
  {
   "cell_type": "code",
   "execution_count": 9,
   "metadata": {},
   "outputs": [],
   "source": [
    "def get_last_date_data(file):\n",
    "    '''\n",
    "    This function open existing OHLC file, put that in pandas dataframe and extract the last date from the file\n",
    "    Input Parameters: Name of the existing csv file that needs to be read in dataframe\n",
    "    Returns: Last date and pandas dataframe containing data\n",
    "    '''\n",
    "    logging.info(\"Opening existing data file and extracting last date from it\")\n",
    "    #print(\"Opening existing data file and extracting last date from it\")\n",
    "    \n",
    "    #old_data_df = pd.read_csv(file, index_col = [\"symbol\", \"date\"]) # Read the csv file in a dataframe\n",
    "    old_data_df = pd.read_csv(file) # Read the csv file in a dataframe\n",
    "    #display(old_data_df.head())\n",
    "    \n",
    "    # Convert Data column to datetime\n",
    "    old_data_df['Date']= pd.to_datetime(old_data_df['Date'])\n",
    "    previous_date = max(old_data_df['Date']) # Get the maximum date which is the last date for which data is present\n",
    "    logging.info(f'Last date in the file is {previous_date}')\n",
    "    # Converting datetime to only date\n",
    "    old_data_df['Date'] = old_data_df['Date'].dt.date\n",
    "    old_data_df.set_index([\"Date\", \"Symbol\"], inplace=True)\n",
    "    #display(old_data_df.head())\n",
    "    return previous_date, old_data_df"
   ]
  },
  {
   "cell_type": "markdown",
   "metadata": {},
   "source": [
    "### The main function to run all the sub functions"
   ]
  },
  {
   "cell_type": "code",
   "execution_count": 10,
   "metadata": {},
   "outputs": [],
   "source": [
    "if __name__ == \"__main__\":\n",
    "    \n",
    "    #tickers_list = ['AAPL', 'MSFT', 'fb', 'AIG', 'AMZN', 'CAT', 'GOOGL', 'A', 'AAL', 'ABC']\n",
    "    # tickers_list = ['AAPL', 'MSFT'] # Created for testing\n",
    "    # Get the next date in YYYY-MM-DD format. As API gives current business date data when next day is entered\n",
    "    today = pd.Timestamp.now().normalize()\n",
    "    next_day =  today + timedelta(days=1)\n",
    "    #print(f'The next day is {next_day}')\n",
    "   \n",
    "    # Create name of the log file\n",
    "    log_file_name = 'OHLC_yfin_logfile_' + str(today).split()[0] +'.log'\n",
    "    #print(f'The log file name is {log_file_name}')\n",
    "    # Initialize a log file at the Info level. This is just to ensure smooth debugging in case anything fails\n",
    "    # %(asctime)s adds the time of creation of the LogRecord\n",
    "    logging.basicConfig(filename=log_file_name, filemode=\"w\", format='%(asctime)s - %(message)s', level=logging.INFO)\n",
    "    \n",
    "    logging.info(\"In the main function\")\n",
    "    logging.info(f'Processing for date {today}')\n",
    "    \n",
    "   # Name of the output file\n",
    "    OHLC_data_file = \"OHLC_yfinance_data.csv\"\n",
    "    #print(f'The name of the output file is {OHLC_data_file}')\n",
    "    \n",
    "    logging.info(\"Check if file already exists\")\n",
    "    \n",
    "    # Check if the OHLC csv file existing the root folder from where this script is ran\n",
    "    if os.path.isfile(OHLC_data_file):\n",
    "        logging.info(\"OHLC Data file exists. Getting data in dataframe and last date\")\n",
    "        #print(\"OHLC Data file exists. Getting data in dataframe and last date\")\n",
    "        # Get the last date and dataframe\n",
    "        previous_day, old_data_df = get_last_date_data(OHLC_data_file)\n",
    "        latest_data = get_OHLC_data(tickers_list, previous_day, next_day)\n",
    "        # Append new data with old data\n",
    "        final_df = old_data_df.append(latest_data)\n",
    "        # Reset index to remove duplicates\n",
    "        final_df.reset_index(inplace=True)\n",
    "        # Drop duplicates that has same symbol and date\n",
    "        final_df = final_df.drop_duplicates(subset=['Date', 'Symbol'], keep='first')\n",
    "        #final_df = final_df.drop_duplicates()\n",
    "        # Set index to symbol and date\n",
    "        final_df.set_index([\"Date\", \"Symbol\"], inplace=True)\n",
    "        \n",
    "    else:\n",
    "        logging.info(\"OHLC file does not exists. Getting maximum possible data\")\n",
    "        #print(\"OHLC file does not exists. Getting maximum possible data\")\n",
    "        latest_data = get_OHLC_data(tickers_list) # Get the max data\n",
    "        final_df = latest_data\n",
    "    \n",
    "    # Create name of the output file\n",
    "    logging.info(f'Writing data in the file name {OHLC_data_file}')\n",
    "    #print(f'Writing data in the file name {OHLC_data_file}')\n",
    "    #print(final_df)\n",
    "    final_df.to_csv(OHLC_data_file, mode='w', index=True) #index is True as we want it to be written in file\n",
    "    "
   ]
  }
 ],
 "metadata": {
  "kernelspec": {
   "display_name": "Python 3",
   "language": "python",
   "name": "python3"
  },
  "language_info": {
   "codemirror_mode": {
    "name": "ipython",
    "version": 3
   },
   "file_extension": ".py",
   "mimetype": "text/x-python",
   "name": "python",
   "nbconvert_exporter": "python",
   "pygments_lexer": "ipython3",
   "version": "3.8.3"
  }
 },
 "nbformat": 4,
 "nbformat_minor": 4
}
